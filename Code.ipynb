{
 "cells": [
  {
   "cell_type": "markdown",
   "id": "70595fb8",
   "metadata": {},
   "source": [
    "#Constants"
   ]
  },
  {
   "cell_type": "code",
   "execution_count": null,
   "id": "f77f094b",
   "metadata": {},
   "outputs": [],
   "source": [
    "import numpy as np\n",
    "import math\n",
    "import matplotlib.pyplot as plt\n",
    "K = 273.15\n",
    "G = 6.674e-11\n",
    "gamma = 0.3\n",
    "S_0 = 917\n",
    "sigma = 5.670367e-8\n",
    "timestep = 1\n",
    "R = 0.2\n",
    "albedo_w = 0.75\n",
    "albedo_b = 0.25\n",
    "albedo_g = 0.5\n",
    "T_min = 278.15\n",
    "T_max = 313.15\n",
    "solar_constant = 970"
   ]
  },
  {
   "cell_type": "markdown",
   "id": "fb94375f",
   "metadata": {},
   "source": [
    "#Helper functions"
   ]
  },
  {
   "cell_type": "code",
   "execution_count": null,
   "id": "f5b2e752",
   "metadata": {},
   "outputs": [],
   "source": [
    "def solar_declination(time): \n",
    "    gamma = 2 * math.pi * ((time%365) - 1)/365\n",
    "    return (0.006918\n",
    "            - 0.399912*math.cos(gamma) + 0.070257*math.sin(gamma)\n",
    "            - 0.006758*math.cos(2*gamma) + 0.000907*math.sin(2*gamma)\n",
    "            - 0.002697*math.cos(3*gamma) + 0.001480*math.sin(3*gamma))\n",
    "\n",
    "def eccentricity_corrector(time):\n",
    "    return 1 + 0.033 * math.cos(2*math.pi * (time%365)/365)\n",
    "\n",
    "def hour_angle_sunset(latitude, delta):\n",
    "    # latitude and delta in radians\n",
    "    cos_omega_s = -math.tan(latitude) * math.tan(delta)\n",
    "    cos_omega_s = max(-1.0, min(1.0, cos_omega_s))\n",
    "    return math.acos(cos_omega_s)\n",
    "\n",
    "def daily_radiation(time, latitude):\n",
    "    latitude = math.radians(latitude)\n",
    "    E_0 = eccentricity_corrector(time)\n",
    "    delta = solar_declination(time)\n",
    "    omega_s = hour_angle_sunset(latitude, delta)\n",
    "    # Daily mean insolation (zero at night)\n",
    "    I_0 = (solar_constant / math.pi) * E_0 * (\n",
    "        omega_s * math.sin(latitude) * math.sin(delta) +\n",
    "        math.cos(latitude) * math.cos(delta) * math.sin(omega_s)\n",
    "    )\n",
    "    # Clamp to zero if sun never rises\n",
    "    return max(I_0, 0)\n",
    "\n",
    "def area_fraction(latitude):\n",
    "   latitude = math.radians(latitude)\n",
    "   return abs((math.sin(latitude + 1/180 * math.pi) - math.sin(latitude))/2)"
   ]
  },
  {
   "cell_type": "markdown",
   "id": "dd95ee18",
   "metadata": {},
   "source": [
    "#Initial Conditions & Main Code"
   ]
  },
  {
   "cell_type": "code",
   "execution_count": null,
   "id": "28dce3b1",
   "metadata": {},
   "outputs": [],
   "source": [
    "T_p_seq = []\n",
    "A_w_seq = []\n",
    "A_b_seq = []\n",
    "A_w = np.ones(180) * 0.8\n",
    "A_b = np.ones(180) * 0.2\n",
    "T_p = 20 + K\n",
    "albedo_p = np.zeros(180)\n",
    "areas = np.vectorize(area_fraction)(np.arange(0, 180))\n",
    "\n",
    "for time in range(365*2):\n",
    "    delta_A_b = np.zeros(180)\n",
    "    delta_A_w = np.zeros(180)\n",
    "    T = np.zeros(180)\n",
    "    for lat in range(0, 180):\n",
    "        x = np.ones(180) - A_w - A_b\n",
    "        albedo_p[lat] = A_w[lat] * albedo_w + x[lat] * albedo_g + A_b[lat] * albedo_b\n",
    "        I_0 = daily_radiation(time, lat)  # <-- use daily radiation\n",
    "        area_i = areas[lat]\n",
    "        T[lat] = (I_0 * (1 - albedo_p[lat])/sigma)**0.25\n",
    "        # print(albedo_p, T_p_i, I_0)\n",
    "        T_w = ((R * I_0 / sigma * (albedo_p[lat] - albedo_w)) + T[lat] ** 4) ** 0.25\n",
    "        T_b = ((R * I_0 / sigma * (albedo_p[lat] - albedo_b)) + T[lat] ** 4) ** 0.25\n",
    "        if T_b <= T_max and T_b >= T_min:\n",
    "            beta_b = 1 - 0.003265 * (295.65 - T_b) ** 2\n",
    "        else:\n",
    "            beta_b = 0\n",
    "        if T_w <= T_max and T_w >= T_min:\n",
    "            beta_w = 1 - 0.003265 * (295.65 - T_w)**2\n",
    "        else:\n",
    "            beta_w = 0\n",
    "        delta_A_w[lat] += area_i * A_w[lat] * (x[lat] * beta_w - gamma) * 1  # timestep = 1 day\n",
    "        delta_A_b[lat] += area_i * A_b[lat] * (x[lat] * beta_b - gamma) * 1\n",
    "    T_p_new = np.dot(T, areas)\n",
    "    T_p = np.ones(180) * T_p_new\n",
    "    A_w += delta_A_w\n",
    "    A_w_seq.append(np.mean(A_w))\n",
    "    A_b += delta_A_b\n",
    "    A_b_seq.append(np.mean(A_b))\n",
    "    T_p_seq.append(T_p_new)"
   ]
  },
  {
   "cell_type": "code",
   "execution_count": null,
   "id": "9bc62bfa",
   "metadata": {},
   "outputs": [],
   "source": [
    "plt.plot(A_w_seq, label = 'White')\n",
    "plt.plot(A_b_seq, label = 'Black')\n",
    "plt.show()\n",
    "plt.plot(T_p_seq, label = 'Temperature')\n",
    "plt.legend()\n",
    "plt.show()"
   ]
  }
 ],
 "metadata": {
  "kernelspec": {
   "display_name": "base",
   "language": "python",
   "name": "python3"
  },
  "language_info": {
   "name": "python",
   "version": "3.13.5"
  }
 },
 "nbformat": 4,
 "nbformat_minor": 5
}
